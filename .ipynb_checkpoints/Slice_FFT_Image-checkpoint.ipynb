{
 "cells": [
  {
   "cell_type": "code",
   "execution_count": 1,
   "metadata": {},
   "outputs": [],
   "source": [
    "import numpy as np\n",
    "import mat4py as m4p\n",
    "from scipy import signal \n",
    "from biosppy.signals import ecg\n",
    "from matplotlib import pyplot as plt\n",
    "import matplotlib\n",
    "import pywt\n",
    "import warnings\n",
    "import os\n",
    "warnings.filterwarnings(\"ignore\")\n",
    "def score_dict(data):\n",
    "    scores={}\n",
    "    for i in range(len(data)):\n",
    "        scores[i]=np.stack((np.array(data[i]['ScoreValence']).flatten(),np.array(data[i]['ScoreArousal']).flatten(),np.array(data[i]['ScoreDominance']).flatten()))\n",
    "    return scores\n",
    "\n",
    "def baseline_ds(data):\n",
    "    ecg_base={}\n",
    "    for i in range(len(data)):\n",
    "        ecg_base[i]=np.array(data[i]['ECG']['baseline']).reshape((18,-1,2))\n",
    "    return ecg_base\n",
    "\n",
    "def stimuli_ds(data):\n",
    "    ecg_stimuli={}\n",
    "    for i in range(len(data)):\n",
    "        individual_stimuli={}\n",
    "        for j in range(18):\n",
    "            individual_stimuli[j]=np.array(data[i]['ECG']['stimuli'][j]).reshape((-1,2))\n",
    "        ecg_stimuli[i]=individual_stimuli\n",
    "    return ecg_stimuli\n"
   ]
  },
  {
   "cell_type": "code",
   "execution_count": 2,
   "metadata": {},
   "outputs": [],
   "source": [
    "def va_model(score,person):\n",
    "    va_sc=[]\n",
    "    sc=score[person][0:2].T\n",
    "    for i in sc:\n",
    "        if 3 in i:\n",
    "            va_sc.append('Neutral')\n",
    "        elif i[0]>3:\n",
    "            if i[1]>3:\n",
    "                va_sc.append('Happiness')\n",
    "            else:\n",
    "                va_sc.append('Peacefulness')\n",
    "        elif i[0]<3:\n",
    "            if i[1]>3:\n",
    "                va_sc.append('Scary')\n",
    "            else:\n",
    "                va_sc.append('Sad')\n",
    "    return va_sc"
   ]
  },
  {
   "cell_type": "code",
   "execution_count": 35,
   "metadata": {},
   "outputs": [],
   "source": [
    "def select_n_slice(person,clip,dataset,seconds,transformation,filtered,score):\n",
    "    #person(0-22) clip(0-17) dataset(baseline/stimuli) seconds() transformation(cwt/stft)\n",
    "    affect=va_model(score,person)[clip]\n",
    "    dirname='Images/'+affect\n",
    "    try:\n",
    "        os.mkdir(dirname)\n",
    "    except FileExistsError:\n",
    "        print(dirname,'already exist')\n",
    "        \n",
    "    if filtered:\n",
    "        select = ecg.ecg(signal=dataset[person][clip][:,0],sampling_rate=256,show=False)['filtered']\n",
    "    else:\n",
    "        select=dataset[person][clip][:,0]\n",
    "           \n",
    "    length = select.shape[0]\n",
    "    pts=seconds*256\n",
    "    slices={}\n",
    "    freq={}\n",
    "    time={}\n",
    "    i=0\n",
    "    widths=np.arange(1,30)\n",
    "    n=length//pts\n",
    "    cwtmatr={}\n",
    "    if transformation=='stft':\n",
    "        while i<n:\n",
    "            freq[i],time[i],slices[i]=signal.spectrogram(select[i*pts:(i+1)*pts],fs=256,nperseg=32,noverlap=16)\n",
    "            i+=1\n",
    "        for i in freq.keys():\n",
    "            f_name=(str(dirname)+'/{0}.png').format(str(i)+'_p'+str(person)+'_c'+str(clip))\n",
    "            plt.figure(figsize=(5.4,2.5),dpi=227)\n",
    "            ax1=plt.pcolormesh(time[i],freq[i],np.log(slices[i]),cmap='jet')\n",
    "            ax1.axes.set_xticks([])\n",
    "            ax1.axes.set_ylim(0,125)\n",
    "            ax1.axes.set_yticks([])\n",
    "            plt.savefig(f_name,pad_inches=-0.1,bbox_inches='tight',transparent=True)\n",
    "            plt.close()\n",
    "            \n",
    "    elif transformation=='cwt':\n",
    "        while i<n:\n",
    "            cwtmatr[i],_ = pywt.cwt(select[i*pts:(i+1)*pts], widths, \"mexh\")\n",
    "            i+=1\n",
    "        for i in cwtmatr.keys():\n",
    "            f_name=(str(dirname)+'/{0}.png').format(str(i)+'_p'+str(person)+'_c'+str(clip))\n",
    "            plt.figure(figsize=(2,1),dpi=227)\n",
    "            ax1=plt.imshow(cwtmatr[i],aspect='auto',vmax=abs(cwtmatr[i]).max(), vmin=-abs(cwtmatr[i]).max())\n",
    "            ax1.axes.set_xticks([])\n",
    "            ax1.axes.set_yticks([])\n",
    "            plt.savefig(f_name,pad_inches=-0.1,bbox_inches='tight',transparent=True)\n",
    "            plt.close()\n",
    "            "
   ]
  },
  {
   "cell_type": "code",
   "execution_count": null,
   "metadata": {},
   "outputs": [],
   "source": [
    "data=m4p.loadmat('DREAMER.mat')['DREAMER']['Data']\n",
    "baseline=baseline_ds(data)\n",
    "stimuli=stimuli_ds(data)\n",
    "score=score_dict(data)"
   ]
  },
  {
   "cell_type": "code",
   "execution_count": 36,
   "metadata": {
    "scrolled": true
   },
   "outputs": [
    {
     "name": "stdout",
     "output_type": "stream",
     "text": [
      "Images/Neutral already exist\n",
      "Images/Neutral already exist\n",
      "Images/Happiness already exist\n",
      "Images/Neutral already exist\n",
      "Images/Happiness already exist\n",
      "Images/Sad already exist\n",
      "Images/Happiness already exist\n",
      "Images/Sad already exist\n",
      "Images/Sad already exist\n",
      "Images/Neutral already exist\n",
      "Images/Peacefulness already exist\n",
      "Images/Neutral already exist\n",
      "Images/Neutral already exist\n",
      "Images/Neutral already exist\n",
      "Images/Scary already exist\n",
      "Images/Neutral already exist\n",
      "Images/Sad already exist\n",
      "Images/Neutral already exist\n"
     ]
    }
   ],
   "source": [
    "for i in range(0,18):\n",
    "    select_n_slice(0,i,baseline,10,'cwt',True,score)"
   ]
  },
  {
   "cell_type": "code",
   "execution_count": null,
   "metadata": {},
   "outputs": [],
   "source": []
  }
 ],
 "metadata": {
  "kernelspec": {
   "display_name": "Python 3",
   "language": "python",
   "name": "python3"
  },
  "language_info": {
   "codemirror_mode": {
    "name": "ipython",
    "version": 3
   },
   "file_extension": ".py",
   "mimetype": "text/x-python",
   "name": "python",
   "nbconvert_exporter": "python",
   "pygments_lexer": "ipython3",
   "version": "3.6.6"
  }
 },
 "nbformat": 4,
 "nbformat_minor": 2
}
