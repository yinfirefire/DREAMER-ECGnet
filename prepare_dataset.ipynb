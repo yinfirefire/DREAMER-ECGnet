{
 "cells": [
  {
   "cell_type": "code",
   "execution_count": 33,
   "metadata": {},
   "outputs": [],
   "source": [
    "import torch \n",
    "import torch.utils.data as data\n",
    "import torchvision\n",
    "from skimage import io\n",
    "import matplotlib.pyplot as plt\n",
    "import prep_ecg\n",
    "from torchvision.transforms import ToTensor"
   ]
  },
  {
   "cell_type": "code",
   "execution_count": 15,
   "metadata": {},
   "outputs": [],
   "source": [
    "# data=m4p.loadmat('DREAMER.mat')['DREAMER']['Data']\n",
    "# baseline=baseline_ds(data)\n",
    "# stimuli=stimuli_ds(data)\n",
    "# score=score_dict(data)\n",
    "# for i in range(0,18):\n",
    "#     select_n_slice(0,i,baseline,10,'cwt',True,score)"
   ]
  },
  {
   "cell_type": "code",
   "execution_count": 73,
   "metadata": {},
   "outputs": [
    {
     "name": "stdout",
     "output_type": "stream",
     "text": [
      "cpu\n"
     ]
    }
   ],
   "source": [
    "device = torch.device(\"cuda:0\" if torch.cuda.is_available() else \"cpu\")\n",
    "print(device)"
   ]
  },
  {
   "cell_type": "code",
   "execution_count": 84,
   "metadata": {},
   "outputs": [],
   "source": [
    "ecg_image=torchvision.datasets.ImageFolder(root='images/',transform=ToTensor())\n",
    "train=torch.utils.data.DataLoader(ecg_image,batch_size=len(ecg_image),shuffle=True,num_workers=0)\n"
   ]
  },
  {
   "cell_type": "code",
   "execution_count": 85,
   "metadata": {},
   "outputs": [
    {
     "name": "stdout",
     "output_type": "stream",
     "text": [
      "108\n",
      "torch.Size([108, 3, 47, 137])\n",
      "0\n",
      "CPU times: user 54.2 ms, sys: 58.4 ms, total: 113 ms\n",
      "Wall time: 123 ms\n"
     ]
    }
   ],
   "source": [
    "%%time\n",
    "print(len(ecg_image))\n",
    "i=0\n",
    "for i_batch, sample_batched in enumerate(train):\n",
    "    print((sample_batched[0].size()))\n",
    "    print(i_batch)\n"
   ]
  },
  {
   "cell_type": "code",
   "execution_count": null,
   "metadata": {},
   "outputs": [],
   "source": [
    "class mydataset(data.Dataset):\n",
    "    def __init__(self, images, labels):\n",
    "        self.images=images\n",
    "        self.labels=labels\n",
    "    def __getitem__(self,index):\n",
    "        "
   ]
  }
 ],
 "metadata": {
  "kernelspec": {
   "display_name": "Python 3",
   "language": "python",
   "name": "python3"
  },
  "language_info": {
   "codemirror_mode": {
    "name": "ipython",
    "version": 3
   },
   "file_extension": ".py",
   "mimetype": "text/x-python",
   "name": "python",
   "nbconvert_exporter": "python",
   "pygments_lexer": "ipython3",
   "version": "3.6.6"
  }
 },
 "nbformat": 4,
 "nbformat_minor": 2
}
